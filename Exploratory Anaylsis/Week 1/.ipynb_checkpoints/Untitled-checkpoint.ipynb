{
 "cells": [
  {
   "cell_type": "code",
   "execution_count": null,
   "id": "d60f6de1",
   "metadata": {},
   "outputs": [],
   "source": [
    "#SQL databases, \n",
    "#NoSQL databases, \n",
    "#different APIs, as well as different \n",
    "#Cloud data sources."
   ]
  },
  {
   "cell_type": "code",
   "execution_count": null,
   "id": "ed374bb8",
   "metadata": {},
   "outputs": [],
   "source": [
    "###Reading csv\n",
    "import pandas as pd\n",
    "path = 'file.csv'\n",
    "#import data .csv,.tsv use sep='\\t', space-separate use delim_whitespace=True\n",
    "data = pd.read_csv(path,)\n",
    "print(data.head)"
   ]
  },
  {
   "cell_type": "code",
   "execution_count": null,
   "id": "c05a5375",
   "metadata": {},
   "outputs": [],
   "source": [
    "###json files read\n",
    "data = pd.read_json(path)\n",
    "#write dataframe file to json\n",
    "data.to_json('outputfile.json')"
   ]
  },
  {
   "cell_type": "code",
   "execution_count": null,
   "id": "a9d2b88b",
   "metadata": {},
   "outputs": [],
   "source": [
    "#sql databases\n",
    "#Microsoft SQL Server, \n",
    "#Postgres, \n",
    "#MySQL, \n",
    "#AWS Redshift, \n",
    "#Oracle DB, \n",
    "#Db2 family for IBM."
   ]
  },
  {
   "cell_type": "code",
   "execution_count": null,
   "id": "459ac7b2",
   "metadata": {},
   "outputs": [],
   "source": [
    "#sql data\n",
    "import sqlite3 as sq3\n",
    "import pandas as pd\n",
    "#initialize path to sqlite database\n",
    "path = 'file.db'\n",
    "#create connection sql\n",
    "con - sq3.connection(path)\n",
    "#write query\n",
    "query = '''SELECT * FROM column'''\n",
    "#execute query\n",
    "data = pd.read_sql(query, con)"
   ]
  },
  {
   "cell_type": "code",
   "execution_count": null,
   "id": "ebe2d615",
   "metadata": {},
   "outputs": [],
   "source": [
    "#MongoDB\n",
    "from pymongo import MongoClient\n",
    "#mongo connection\n",
    "con = MongoClient()\n",
    "#choose database\n",
    "db = con.database_name\n",
    "#cursor object\n",
    "cursor = db.collection_name.find(query)\n",
    "#expand cursor and construct dataframe\n",
    "df = pd.DataFrame(list(cursor))"
   ]
  },
  {
   "cell_type": "code",
   "execution_count": null,
   "id": "16f17e73",
   "metadata": {},
   "outputs": [],
   "source": []
  },
  {
   "cell_type": "code",
   "execution_count": null,
   "id": "8223e47e",
   "metadata": {},
   "outputs": [],
   "source": []
  },
  {
   "cell_type": "code",
   "execution_count": null,
   "id": "f1b89def",
   "metadata": {},
   "outputs": [],
   "source": []
  }
 ],
 "metadata": {
  "kernelspec": {
   "display_name": "Python 3",
   "language": "python",
   "name": "python3"
  },
  "language_info": {
   "codemirror_mode": {
    "name": "ipython",
    "version": 3
   },
   "file_extension": ".py",
   "mimetype": "text/x-python",
   "name": "python",
   "nbconvert_exporter": "python",
   "pygments_lexer": "ipython3",
   "version": "3.10.4"
  },
  "latex_envs": {
   "LaTeX_envs_menu_present": true,
   "autoclose": false,
   "autocomplete": true,
   "bibliofile": "biblio.bib",
   "cite_by": "apalike",
   "current_citInitial": 1,
   "eqLabelWithNumbers": true,
   "eqNumInitial": 1,
   "hotkeys": {
    "equation": "Ctrl-E",
    "itemize": "Ctrl-I"
   },
   "labels_anchors": false,
   "latex_user_defs": false,
   "report_style_numbering": false,
   "user_envs_cfg": false
  },
  "nbTranslate": {
   "displayLangs": [
    "*"
   ],
   "hotkey": "alt-t",
   "langInMainMenu": true,
   "sourceLang": "en",
   "targetLang": "fr",
   "useGoogleTranslate": true
  },
  "varInspector": {
   "cols": {
    "lenName": 16,
    "lenType": 16,
    "lenVar": 40
   },
   "kernels_config": {
    "python": {
     "delete_cmd_postfix": "",
     "delete_cmd_prefix": "del ",
     "library": "var_list.py",
     "varRefreshCmd": "print(var_dic_list())"
    },
    "r": {
     "delete_cmd_postfix": ") ",
     "delete_cmd_prefix": "rm(",
     "library": "var_list.r",
     "varRefreshCmd": "cat(var_dic_list()) "
    }
   },
   "types_to_exclude": [
    "module",
    "function",
    "builtin_function_or_method",
    "instance",
    "_Feature"
   ],
   "window_display": false
  }
 },
 "nbformat": 4,
 "nbformat_minor": 5
}
