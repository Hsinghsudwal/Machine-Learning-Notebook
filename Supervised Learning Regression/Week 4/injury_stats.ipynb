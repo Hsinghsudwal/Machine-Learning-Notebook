{
 "cells": [
  {
   "cell_type": "code",
   "execution_count": 1,
   "id": "8f9c0caf",
   "metadata": {},
   "outputs": [],
   "source": [
    "import numpy as np\n",
    "import pandas as pd\n",
    "import seaborn as sns\n",
    "import matplotlib.pyplot as plt\n",
    "import plotly.express as px\n",
    "from pandas_profiling import ProfileReport\n",
    "import lazypredict\n",
    "import warnings\n",
    "warnings.filterwarnings('ignore')"
   ]
  },
  {
   "cell_type": "code",
   "execution_count": 2,
   "id": "7790c157",
   "metadata": {},
   "outputs": [
    {
     "data": {
      "text/plain": [
       "'Main objective of the analysis that specifies whether your model will be focused on prediction or interpretation.\\n`Brief description of the data set you chose and a summary of its attributes.\\n\\nBrief summary of data exploration and actions taken for data cleaning and feature engineering.\\n\\nSummary of training at least three linear regression models which should be variations that cover using a simple linear regression as a baseline, adding polynomial effects, and using a regularization regression. Preferably, all use the same training and test splits, or the same cross-validation method.\\n\\nA paragraph explaining which of your regressions you recommend as a final model that best fits your needs in terms of accuracy and explainability.\\n\\nSummary Key Findings and Insights, which walks your reader through the main drivers of your model and insights from your data derived from your linear regression model.\\n\\nSuggestions for next steps in analyzing this data, which may include suggesting revisiting this model adding specific data features to achieve a better explanation or a better prediction.'"
      ]
     },
     "execution_count": 2,
     "metadata": {},
     "output_type": "execute_result"
    }
   ],
   "source": [
    "'''Main objective of the analysis that specifies whether your model will be focused on prediction or interpretation.\n",
    "`Brief description of the data set you chose and a summary of its attributes.\n",
    "\n",
    "Brief summary of data exploration and actions taken for data cleaning and feature engineering.\n",
    "\n",
    "Summary of training at least three linear regression models which should be variations that cover using a simple linear regression as a baseline, adding polynomial effects, and using a regularization regression. Preferably, all use the same training and test splits, or the same cross-validation method.\n",
    "\n",
    "A paragraph explaining which of your regressions you recommend as a final model that best fits your needs in terms of accuracy and explainability.\n",
    "\n",
    "Summary Key Findings and Insights, which walks your reader through the main drivers of your model and insights from your data derived from your linear regression model.\n",
    "\n",
    "Suggestions for next steps in analyzing this data, which may include suggesting revisiting this model adding specific data features to achieve a better explanation or a better prediction.'''"
   ]
  },
  {
   "cell_type": "code",
   "execution_count": 6,
   "id": "00de0030",
   "metadata": {},
   "outputs": [],
   "source": [
    "path = !pwd"
   ]
  },
  {
   "cell_type": "code",
   "execution_count": 14,
   "id": "499081f3",
   "metadata": {},
   "outputs": [
    {
     "data": {
      "text/html": [
       "<div>\n",
       "<style scoped>\n",
       "    .dataframe tbody tr th:only-of-type {\n",
       "        vertical-align: middle;\n",
       "    }\n",
       "\n",
       "    .dataframe tbody tr th {\n",
       "        vertical-align: top;\n",
       "    }\n",
       "\n",
       "    .dataframe thead th {\n",
       "        text-align: right;\n",
       "    }\n",
       "</style>\n",
       "<table border=\"1\" class=\"dataframe\">\n",
       "  <thead>\n",
       "    <tr style=\"text-align: right;\">\n",
       "      <th></th>\n",
       "      <th>Year</th>\n",
       "      <th>Sex</th>\n",
       "      <th>Age group (years) at date of injury</th>\n",
       "      <th>Geographic region where injury occurred</th>\n",
       "      <th>Employment status</th>\n",
       "      <th>Occupation</th>\n",
       "      <th>Injury/illness/disease group</th>\n",
       "      <th>Type of injury/illness/disease</th>\n",
       "      <th>Industry</th>\n",
       "      <th>Industry subgroup</th>\n",
       "      <th>Value</th>\n",
       "      <th>Measure</th>\n",
       "      <th>Status</th>\n",
       "    </tr>\n",
       "  </thead>\n",
       "  <tbody>\n",
       "    <tr>\n",
       "      <th>0</th>\n",
       "      <td>2002</td>\n",
       "      <td>Total</td>\n",
       "      <td>Total</td>\n",
       "      <td>Total</td>\n",
       "      <td>Total</td>\n",
       "      <td>Total</td>\n",
       "      <td>Total</td>\n",
       "      <td>Total</td>\n",
       "      <td>Total</td>\n",
       "      <td>Total</td>\n",
       "      <td>258.4</td>\n",
       "      <td>Number of claims in thousands</td>\n",
       "      <td>Final</td>\n",
       "    </tr>\n",
       "    <tr>\n",
       "      <th>1</th>\n",
       "      <td>2003</td>\n",
       "      <td>Total</td>\n",
       "      <td>Total</td>\n",
       "      <td>Total</td>\n",
       "      <td>Total</td>\n",
       "      <td>Total</td>\n",
       "      <td>Total</td>\n",
       "      <td>Total</td>\n",
       "      <td>Total</td>\n",
       "      <td>Total</td>\n",
       "      <td>258.1</td>\n",
       "      <td>Number of claims in thousands</td>\n",
       "      <td>Final</td>\n",
       "    </tr>\n",
       "    <tr>\n",
       "      <th>2</th>\n",
       "      <td>2004</td>\n",
       "      <td>Total</td>\n",
       "      <td>Total</td>\n",
       "      <td>Total</td>\n",
       "      <td>Total</td>\n",
       "      <td>Total</td>\n",
       "      <td>Total</td>\n",
       "      <td>Total</td>\n",
       "      <td>Total</td>\n",
       "      <td>Total</td>\n",
       "      <td>261.1</td>\n",
       "      <td>Number of claims in thousands</td>\n",
       "      <td>Final</td>\n",
       "    </tr>\n",
       "    <tr>\n",
       "      <th>3</th>\n",
       "      <td>2005</td>\n",
       "      <td>Total</td>\n",
       "      <td>Total</td>\n",
       "      <td>Total</td>\n",
       "      <td>Total</td>\n",
       "      <td>Total</td>\n",
       "      <td>Total</td>\n",
       "      <td>Total</td>\n",
       "      <td>Total</td>\n",
       "      <td>Total</td>\n",
       "      <td>262.0</td>\n",
       "      <td>Number of claims in thousands</td>\n",
       "      <td>Final</td>\n",
       "    </tr>\n",
       "    <tr>\n",
       "      <th>4</th>\n",
       "      <td>2006</td>\n",
       "      <td>Total</td>\n",
       "      <td>Total</td>\n",
       "      <td>Total</td>\n",
       "      <td>Total</td>\n",
       "      <td>Total</td>\n",
       "      <td>Total</td>\n",
       "      <td>Total</td>\n",
       "      <td>Total</td>\n",
       "      <td>Total</td>\n",
       "      <td>253.6</td>\n",
       "      <td>Number of claims in thousands</td>\n",
       "      <td>Final</td>\n",
       "    </tr>\n",
       "  </tbody>\n",
       "</table>\n",
       "</div>"
      ],
      "text/plain": [
       "   Year    Sex Age group (years) at date of injury  \\\n",
       "0  2002  Total                               Total   \n",
       "1  2003  Total                               Total   \n",
       "2  2004  Total                               Total   \n",
       "3  2005  Total                               Total   \n",
       "4  2006  Total                               Total   \n",
       "\n",
       "  Geographic region where injury occurred Employment status Occupation  \\\n",
       "0                                   Total             Total      Total   \n",
       "1                                   Total             Total      Total   \n",
       "2                                   Total             Total      Total   \n",
       "3                                   Total             Total      Total   \n",
       "4                                   Total             Total      Total   \n",
       "\n",
       "  Injury/illness/disease group Type of injury/illness/disease Industry  \\\n",
       "0                        Total                          Total    Total   \n",
       "1                        Total                          Total    Total   \n",
       "2                        Total                          Total    Total   \n",
       "3                        Total                          Total    Total   \n",
       "4                        Total                          Total    Total   \n",
       "\n",
       "  Industry subgroup  Value                        Measure Status  \n",
       "0             Total  258.4  Number of claims in thousands  Final  \n",
       "1             Total  258.1  Number of claims in thousands  Final  \n",
       "2             Total  261.1  Number of claims in thousands  Final  \n",
       "3             Total  262.0  Number of claims in thousands  Final  \n",
       "4             Total  253.6  Number of claims in thousands  Final  "
      ]
     },
     "execution_count": 14,
     "metadata": {},
     "output_type": "execute_result"
    }
   ],
   "source": [
    "path='C:/Users/sudwa/Desktop/Machine Learning/Coursera_ML/IBM/Supervised Learning Regression/Week 4/injury_stats.csv'\n",
    "df = pd.read_csv(path, encoding='cp1252')\n",
    "df.head()"
   ]
  },
  {
   "cell_type": "code",
   "execution_count": 15,
   "id": "49d96cb1",
   "metadata": {},
   "outputs": [
    {
     "name": "stdout",
     "output_type": "stream",
     "text": [
      "<class 'pandas.core.frame.DataFrame'>\n",
      "RangeIndex: 2945 entries, 0 to 2944\n",
      "Data columns (total 13 columns):\n",
      " #   Column                                   Non-Null Count  Dtype  \n",
      "---  ------                                   --------------  -----  \n",
      " 0   Year                                     2945 non-null   int64  \n",
      " 1   Sex                                      2945 non-null   object \n",
      " 2   Age group (years) at date of injury      2945 non-null   object \n",
      " 3   Geographic region where injury occurred  2945 non-null   object \n",
      " 4   Employment status                        2945 non-null   object \n",
      " 5   Occupation                               2945 non-null   object \n",
      " 6   Injury/illness/disease group             2945 non-null   object \n",
      " 7   Type of injury/illness/disease           2945 non-null   object \n",
      " 8   Industry                                 2945 non-null   object \n",
      " 9   Industry subgroup                        2945 non-null   object \n",
      " 10  Value                                    2945 non-null   float64\n",
      " 11  Measure                                  2945 non-null   object \n",
      " 12  Status                                   2945 non-null   object \n",
      "dtypes: float64(1), int64(1), object(11)\n",
      "memory usage: 299.2+ KB\n"
     ]
    }
   ],
   "source": [
    "df.info()"
   ]
  },
  {
   "cell_type": "code",
   "execution_count": null,
   "id": "46986b19",
   "metadata": {},
   "outputs": [],
   "source": []
  },
  {
   "cell_type": "code",
   "execution_count": null,
   "id": "3b85b086",
   "metadata": {},
   "outputs": [],
   "source": []
  },
  {
   "cell_type": "code",
   "execution_count": null,
   "id": "c2e923a3",
   "metadata": {},
   "outputs": [],
   "source": []
  },
  {
   "cell_type": "code",
   "execution_count": null,
   "id": "9fb95dfe",
   "metadata": {},
   "outputs": [],
   "source": []
  },
  {
   "cell_type": "code",
   "execution_count": null,
   "id": "12e8e606",
   "metadata": {},
   "outputs": [],
   "source": []
  },
  {
   "cell_type": "code",
   "execution_count": null,
   "id": "f5f407b5",
   "metadata": {},
   "outputs": [],
   "source": []
  },
  {
   "cell_type": "code",
   "execution_count": null,
   "id": "87ae392d",
   "metadata": {},
   "outputs": [],
   "source": []
  },
  {
   "cell_type": "code",
   "execution_count": null,
   "id": "4995afec",
   "metadata": {},
   "outputs": [],
   "source": []
  }
 ],
 "metadata": {
  "kernelspec": {
   "display_name": "Python 3",
   "language": "python",
   "name": "python3"
  },
  "language_info": {
   "codemirror_mode": {
    "name": "ipython",
    "version": 3
   },
   "file_extension": ".py",
   "mimetype": "text/x-python",
   "name": "python",
   "nbconvert_exporter": "python",
   "pygments_lexer": "ipython3",
   "version": "3.10.4"
  },
  "latex_envs": {
   "LaTeX_envs_menu_present": true,
   "autoclose": false,
   "autocomplete": true,
   "bibliofile": "biblio.bib",
   "cite_by": "apalike",
   "current_citInitial": 1,
   "eqLabelWithNumbers": true,
   "eqNumInitial": 1,
   "hotkeys": {
    "equation": "Ctrl-E",
    "itemize": "Ctrl-I"
   },
   "labels_anchors": false,
   "latex_user_defs": false,
   "report_style_numbering": false,
   "user_envs_cfg": false
  },
  "nbTranslate": {
   "displayLangs": [
    "*"
   ],
   "hotkey": "alt-t",
   "langInMainMenu": true,
   "sourceLang": "en",
   "targetLang": "fr",
   "useGoogleTranslate": true
  },
  "varInspector": {
   "cols": {
    "lenName": 16,
    "lenType": 16,
    "lenVar": 40
   },
   "kernels_config": {
    "python": {
     "delete_cmd_postfix": "",
     "delete_cmd_prefix": "del ",
     "library": "var_list.py",
     "varRefreshCmd": "print(var_dic_list())"
    },
    "r": {
     "delete_cmd_postfix": ") ",
     "delete_cmd_prefix": "rm(",
     "library": "var_list.r",
     "varRefreshCmd": "cat(var_dic_list()) "
    }
   },
   "types_to_exclude": [
    "module",
    "function",
    "builtin_function_or_method",
    "instance",
    "_Feature"
   ],
   "window_display": false
  }
 },
 "nbformat": 4,
 "nbformat_minor": 5
}
